{
  "nbformat": 4,
  "nbformat_minor": 0,
  "metadata": {
    "colab": {
      "provenance": []
    },
    "kernelspec": {
      "name": "python3",
      "display_name": "Python 3"
    },
    "language_info": {
      "name": "python"
    }
  },
  "cells": [
    {
      "cell_type": "code",
      "execution_count": null,
      "metadata": {
        "id": "UKiRN2tRwiE5"
      },
      "outputs": [],
      "source": []
    },
    {
      "source": [
        "def max_of_three(a, b, c):\n",
        "  \"\"\"Finds the maximum of three numbers.\n",
        "\n",
        "  Args:\n",
        "    a: The first number.\n",
        "    b: The second number.\n",
        "    c: The third number.\n",
        "\n",
        "  Returns:\n",
        "    The maximum of the three numbers.\n",
        "  \"\"\"\n",
        "  return max(a, b, c)\n",
        "\n",
        "# Example usage\n",
        "result = max_of_three(1, 5, 3)\n",
        "print(result)  # Output: 5"
      ],
      "cell_type": "code",
      "metadata": {
        "id": "2y4AoQzcwv48"
      },
      "execution_count": null,
      "outputs": []
    },
    {
      "source": [
        "def sum_of_list(numbers):\n",
        "  \"\"\"Calculates the sum of all numbers in a list.\n",
        "\n",
        "  Args:\n",
        "    numbers: A list of numbers.\n",
        "\n",
        "  Returns:\n",
        "    The sum of the numbers in the list.\n",
        "  \"\"\"\n",
        "  total = 0\n",
        "  for number in numbers:\n",
        "    total += number\n",
        "  return total\n",
        "\n",
        "# Example usage\n",
        "numbers = [8, 2, 3, 0, 7]\n",
        "result = sum_of_list(numbers)\n",
        "print(result)  # Output: 20"
      ],
      "cell_type": "code",
      "metadata": {
        "id": "tW-h-8KywwT4"
      },
      "execution_count": null,
      "outputs": []
    },
    {
      "source": [
        "def multiply_list(numbers):\n",
        "  \"\"\"Multiplies all numbers in a list.\n",
        "\n",
        "  Args:\n",
        "    numbers: A list of numbers.\n",
        "\n",
        "  Returns:\n",
        "    The product of the numbers in the list.\n",
        "  \"\"\"\n",
        "  result = 1\n",
        "  for number in numbers:\n",
        "    result *= number\n",
        "  return result\n",
        "\n",
        "# Example usage\n",
        "numbers = [8, 2, 3, -1, 7]\n",
        "result = multiply_list(numbers)\n",
        "print(result)  # Output: -336"
      ],
      "cell_type": "code",
      "metadata": {
        "id": "RviN0yOywxaL"
      },
      "execution_count": null,
      "outputs": []
    },
    {
      "source": [
        "def reverse_string(string):\n",
        "  \"\"\"Reverses a string.\n",
        "\n",
        "  Args:\n",
        "    string: The string to reverse.\n",
        "\n",
        "  Returns:\n",
        "    The reversed string.\n",
        "  \"\"\"\n",
        "  return string[::-1]\n",
        "\n",
        "# Example usage\n",
        "string = \"1234abcd\"\n",
        "result = reverse_string(string)\n",
        "print(result)  # Output: dcba4321"
      ],
      "cell_type": "code",
      "metadata": {
        "id": "KCEeA09Nwx5P"
      },
      "execution_count": null,
      "outputs": []
    },
    {
      "source": [
        "def factorial(n):\n",
        "  \"\"\"Calculates the factorial of a non-negative integer.\n",
        "\n",
        "  Args:\n",
        "    n: The non-negative integer.\n",
        "\n",
        "  Returns:\n",
        "    The factorial of n.\n",
        "  \"\"\"\n",
        "  if n == 0:\n",
        "    return 1\n",
        "  else:\n",
        "    return n * factorial(n - 1)\n",
        "\n",
        "# Example usage\n",
        "result = factorial(5)\n",
        "print(result)  # Output: 120"
      ],
      "cell_type": "code",
      "metadata": {
        "id": "HL8CBSDtwygn"
      },
      "execution_count": null,
      "outputs": []
    },
    {
      "source": [
        "def is_in_range(number, start, end):\n",
        "  \"\"\"Checks if a number is within a given range.\n",
        "\n",
        "  Args:\n",
        "    number: The number to check.\n",
        "    start: The start of the range.\n",
        "    end: The end of the range.\n",
        "\n",
        "  Returns:\n",
        "    True if the number is within the range, False otherwise.\n",
        "  \"\"\"\n",
        "  return start <= number <= end\n",
        "\n",
        "# Example usage\n",
        "result = is_in_range(5, 1, 10)\n",
        "print(result)  # Output: True"
      ],
      "cell_type": "code",
      "metadata": {
        "id": "TYBycjjLwzBq"
      },
      "execution_count": null,
      "outputs": []
    },
    {
      "source": [
        "def count_case(string):\n",
        "  \"\"\"Counts the number of upper and lower case letters in a string.\n",
        "\n",
        "  Args:\n",
        "    string: The string to analyze.\n",
        "\n",
        "  Returns:\n",
        "    A tuple containing the number of upper case letters and the number of lower\n",
        "    case letters.\n",
        "  \"\"\"\n",
        "  upper_count = 0\n",
        "  lower_count = 0\n",
        "  for char in string:\n",
        "    if char.isupper():\n",
        "      upper_count += 1\n",
        "    elif char.islower():\n",
        "      lower_count += 1\n",
        "  return upper_count, lower_count\n",
        "\n",
        "# Example usage\n",
        "string = 'The quick Brow Fox'\n",
        "upper_count, lower_count = count_case(string)\n",
        "print(\"No. of Upper case characters :\", upper_count)  # Output: 3\n",
        "print(\"No. of Lower case Characters :\", lower_count)  # Output: 12"
      ],
      "cell_type": "code",
      "metadata": {
        "id": "WhPnqpe8wzk_"
      },
      "execution_count": null,
      "outputs": []
    },
    {
      "source": [
        "def get_distinct_elements(lst):\n",
        "  \"\"\"Returns a new list with distinct elements from the first list.\n",
        "\n",
        "  Args:\n",
        "    lst: The original list.\n",
        "\n",
        "  Returns:\n",
        "    A new list with distinct elements.\n",
        "  \"\"\"\n",
        "  return list(set(lst))\n",
        "\n",
        "# Example usage\n",
        "lst = [1, 2, 3, 3, 3, 3, 4, 5]\n",
        "result = get_distinct_elements(lst)\n",
        "print(result)  # Output: [1, 2, 3, 4, 5]"
      ],
      "cell_type": "code",
      "metadata": {
        "id": "8fWGrCBJw0fi"
      },
      "execution_count": null,
      "outputs": []
    },
    {
      "source": [
        "def is_prime(n):\n",
        "  \"\"\"Checks if a number is prime.\n",
        "\n",
        "  Args:\n",
        "    n: The number to check.\n",
        "\n",
        "  Returns:\n",
        "    True if the number is prime, False otherwise.\n",
        "  \"\"\"\n",
        "  if n <= 1:\n",
        "    return False\n",
        "  for i in range(2, int(n**0.5) + 1):\n",
        "    if n % i == 0:\n",
        "      return False\n",
        "  return True\n",
        "\n",
        "# Example usage\n",
        "result = is_prime(7)\n",
        "print(result)  # Output: True"
      ],
      "cell_type": "code",
      "metadata": {
        "id": "dI6C8Cxgw1W3"
      },
      "execution_count": null,
      "outputs": []
    },
    {
      "source": [
        "def print_even_numbers(numbers):\n",
        "  \"\"\"Prints the even numbers from a given list.\n",
        "\n",
        "  Args:\n",
        "    numbers: The list of numbers.\n",
        "  \"\"\"\n",
        "  even_numbers = [number for number in numbers if number % 2 == 0]\n",
        "  print(even_numbers)\n",
        "\n",
        "# Example usage\n",
        "numbers = [1, 2, 3, 4, 5, 6, 7, 8, 9]\n",
        "print_even_numbers(numbers)  # Output: [2, 4, 6, 8]"
      ],
      "cell_type": "code",
      "metadata": {
        "id": "3sZkq4DVw2Ba"
      },
      "execution_count": null,
      "outputs": []
    },
    {
      "source": [
        "def is_perfect_number(number):\n",
        "  \"\"\"Checks if a number is a perfect number.\n",
        "\n",
        "  Args:\n",
        "    number: The number to check.\n",
        "\n",
        "  Returns:\n",
        "    True if the number is perfect, False otherwise.\n",
        "  \"\"\"\n",
        "  if number <= 1:\n",
        "    return False\n",
        "\n",
        "  total = 0\n",
        "  for i in range(1, number):\n",
        "    if number % i == 0:\n",
        "      total += i\n",
        "\n",
        "  return total == number\n",
        "\n",
        "# Example usage\n",
        "number = 6\n",
        "result = is_perfect_number(number)\n",
        "print(f\"Is {number} a perfect number? {result}\")  # Output: True"
      ],
      "cell_type": "code",
      "metadata": {
        "id": "VJADFCFhw70i"
      },
      "execution_count": null,
      "outputs": []
    },
    {
      "source": [
        "def is_palindrome(string):\n",
        "  \"\"\"Checks if a string is a palindrome.\n",
        "\n",
        "  Args:\n",
        "    string: The string to check.\n",
        "\n",
        "  Returns:\n",
        "    True if the string is a palindrome, False otherwise.\n",
        "  \"\"\"\n",
        "  string = string.lower()  # Ignore case\n",
        "  return string == string[::-1]\n",
        "\n",
        "# Example usage\n",
        "string = \"madam\"\n",
        "result = is_palindrome(string)\n",
        "print(f\"Is '{string}' a palindrome? {result}\")  # Output: True"
      ],
      "cell_type": "code",
      "metadata": {
        "id": "fpe6WKLDw8m8"
      },
      "execution_count": null,
      "outputs": []
    },
    {
      "source": [
        "def find_numbers():\n",
        "  \"\"\"Finds numbers divisible by 7 but not a multiple of 5 between 2000 and 3200.\n",
        "\n",
        "  Returns:\n",
        "    A comma-separated sequence of numbers as a string.\n",
        "  \"\"\"\n",
        "  numbers = []\n",
        "  for i in range(2000, 3201):\n",
        "    if (i % 7 == 0) and (i % 5 != 0):\n",
        "      numbers.append(str(i))\n",
        "  return \",\".join(numbers)\n",
        "\n",
        "# Example usage\n",
        "result = find_numbers()\n",
        "print(result)  # Output: 2002,2009,2016,2023,..."
      ],
      "cell_type": "code",
      "metadata": {
        "id": "bVAooK4IxG_Q"
      },
      "execution_count": null,
      "outputs": []
    },
    {
      "source": [
        "import math\n",
        "\n",
        "def calculate_p(c_values):\n",
        "  \"\"\"Calculates P using the given formula for a sequence of C values.\n",
        "\n",
        "  Args:\n",
        "    c_values: A comma-separated sequence of C values as a string.\n",
        "\n",
        "  Returns:\n",
        "    A comma-separated sequence of calculated P values as a string.\n",
        "  \"\"\"\n",
        "  A = 50\n",
        "  B = 30\n",
        "  results = []\n",
        "  c_values = c_values.split(\",\")  # Split the input string into a list of C values\n",
        "\n",
        "  for c in c_values:\n",
        "    c = float(c)  # Convert C to a float\n",
        "    p = math.sqrt((2 * A * B) / c)\n",
        "    results.append(str(round(p)))  # Round P to the nearest integer and convert to string\n",
        "\n",
        "  return \",\".join(results)\n",
        "\n",
        "# Example usage\n",
        "c_values = \"100,150,180\"\n",
        "result = calculate_p(c_values)\n",
        "print(result)  # Output: 18,22,24"
      ],
      "cell_type": "code",
      "metadata": {
        "id": "7euq94NAxI8E"
      },
      "execution_count": null,
      "outputs": []
    },
    {
      "source": [
        "def sort_words(words):\n",
        "  \"\"\"Sorts a comma-separated sequence of words alphabetically.\n",
        "\n",
        "  Args:\n",
        "    words: A comma-separated sequence of words as a string.\n",
        "\n",
        "  Returns:\n",
        "    A comma-separated sequence of sorted words as a string.\n",
        "  \"\"\"\n",
        "  words_list = words.split(\",\")\n",
        "  words_list.sort()\n",
        "  return \",\".join(words_list)\n",
        "\n",
        "# Example usage\n",
        "words = \"without,hello,bag,world\"\n",
        "result = sort_words(words)\n",
        "print(result)  # Output: bag,hello,without,world"
      ],
      "cell_type": "code",
      "metadata": {
        "id": "kfh27eeIxJ1p"
      },
      "execution_count": null,
      "outputs": []
    },
    {
      "source": [
        "def capitalize_lines(lines):\n",
        "  \"\"\"Capitalizes all characters in a sequence of lines.\n",
        "\n",
        "  Args:\n",
        "    lines: A sequence of lines as a string, where lines are separated by newlines.\n",
        "\n",
        "  Returns:\n",
        "    The capitalized lines as a string.\n",
        "  \"\"\"\n",
        "  capitalized_lines = lines.upper()\n",
        "  return capitalized_lines\n",
        "\n",
        "# Example usage\n",
        "lines = \"Hello world\\nPractice makes perfect\"\n",
        "result = capitalize_lines(lines)\n",
        "print(result)  # Output: HELLO WORLD\\nPRACTICE MAKES PERFECT"
      ],
      "cell_type": "code",
      "metadata": {
        "id": "SIsjnMbJxLVd"
      },
      "execution_count": null,
      "outputs": []
    },
    {
      "source": [
        "def count_vowels(sentence):\n",
        "  \"\"\"Counts the number of vowels in a sentence.\n",
        "\n",
        "  Args:\n",
        "    sentence: The input sentence as a string.\n",
        "\n",
        "  Returns:\n",
        "    None. Prints the vowel counts to the console.\n",
        "  \"\"\"\n",
        "  vowels = \"aeiou\"\n",
        "  vowel_counts = {}\n",
        "\n",
        "  for vowel in vowels:\n",
        "    vowel_counts[vowel] = sentence.lower().count(vowel)\n",
        "\n",
        "  for vowel, count in vowel_counts.items():\n",
        "    print(f\"{vowel} appeared {count} times\")\n",
        "\n",
        "# Example usage\n",
        "sentence = \"Hello world\\nPractice makes perfect\"\n",
        "count_vowels(sentence)  # Output: a appeared 2 times, e appeared 5 times, etc."
      ],
      "cell_type": "code",
      "metadata": {
        "id": "KQji6aOrxM_K"
      },
      "execution_count": null,
      "outputs": []
    },
    {
      "source": [
        "def find_even_digit_numbers():\n",
        "  \"\"\"Finds numbers from 1000 to 3000 with all even digits.\n",
        "\n",
        "  Returns:\n",
        "    A list of numbers with all even digits.\n",
        "  \"\"\"\n",
        "  numbers = []\n",
        "  for i in range(1000, 3001):\n",
        "    if all(int(digit) % 2 == 0 for digit in str(i)):\n",
        "      numbers.append(i)\n",
        "  return numbers\n",
        "\n",
        "# Example usage\n",
        "result = find_even_digit_numbers()\n",
        "print(result)  # Output: [2000, 2002, 2004, ...]"
      ],
      "cell_type": "code",
      "metadata": {
        "id": "4aaZ-EZqxNkj"
      },
      "execution_count": null,
      "outputs": []
    },
    {
      "source": [
        "def find_divisible_by_5(binary_numbers):\n",
        "  \"\"\"Finds 4-digit binary numbers divisible by 5 from a comma-separated sequence.\n",
        "\n",
        "  Args:\n",
        "    binary_numbers: A comma-separated sequence of 4-digit binary numbers as a string.\n",
        "\n",
        "  Returns:\n",
        "    A comma-separated sequence of binary numbers divisible by 5 as a string.\n",
        "  \"\"\"\n",
        "  divisible_numbers = []\n",
        "  binary_numbers_list = binary_numbers.split(\",\")\n",
        "\n",
        "  for binary_number in binary_numbers_list:\n",
        "    decimal_number = int(binary_number, 2)  # Convert binary to decimal\n",
        "    if decimal_number % 5 == 0:\n",
        "      divisible_numbers.append(binary_number)\n",
        "\n",
        "  return \",\".join(divisible_numbers)\n",
        "\n",
        "# Example usage\n",
        "binary_numbers = \"0100,0011,1010,1001\"\n",
        "result = find_divisible_by_5(binary_numbers)\n",
        "print(result)  # Output: 1010"
      ],
      "cell_type": "code",
      "metadata": {
        "id": "LKKgid0YxSUi"
      },
      "execution_count": null,
      "outputs": []
    },
    {
      "source": [
        "def count_letters_digits(sentence):\n",
        "  \"\"\"Counts the number of letters and digits in a sentence.\n",
        "\n",
        "  Args:\n",
        "    sentence: The input sentence as a string.\n",
        "\n",
        "  Returns:\n",
        "    None. Prints the letter and digit counts to the console.\n",
        "  \"\"\"\n",
        "  letter_count = 0\n",
        "  digit_count = 0\n",
        "\n",
        "  for char in sentence:\n",
        "    if char.isalpha():\n",
        "      letter_count += 1\n",
        "    elif char.isdigit():\n",
        "      digit_count += 1\n",
        "\n",
        "  print(\"LETTERS\", letter_count)\n",
        "  print(\"DIGITS\", digit_count)\n",
        "\n",
        "# Example usage\n",
        "sentence = \"hello world! 123\"\n",
        "count_letters_digits(sentence)  # Output: LETTERS 10, DIGITS 3"
      ],
      "cell_type": "code",
      "metadata": {
        "id": "EZp9wlTzxT89"
      },
      "execution_count": null,
      "outputs": []
    }
  ]
}