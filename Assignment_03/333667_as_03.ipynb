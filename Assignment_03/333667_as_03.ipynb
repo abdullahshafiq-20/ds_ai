{
  "nbformat": 4,
  "nbformat_minor": 0,
  "metadata": {
    "colab": {
      "provenance": []
    },
    "kernelspec": {
      "name": "python3",
      "display_name": "Python 3"
    },
    "language_info": {
      "name": "python"
    }
  },
  "cells": [
    {
      "cell_type": "code",
      "execution_count": null,
      "metadata": {
        "id": "BbQs5x9jvU9p"
      },
      "outputs": [],
      "source": []
    },
    {
      "source": [
        "# 1. Check Discount Eligibility\n",
        "def check_discount_eligibility(total_purchase):\n",
        "  if total_purchase > 100:\n",
        "    final_price = total_purchase * (1 - 0.10)  # Apply 10% discount\n",
        "  else:\n",
        "    final_price = total_purchase\n",
        "  return final_price\n",
        "\n",
        "# 2. Calculate Bulk Discount\n",
        "def calculate_bulk_discount(num_items, total_price):\n",
        "  if num_items > 5:\n",
        "    total_price *= (1 - 0.15)  # Apply 15% discount\n",
        "  return total_price\n",
        "\n",
        "# 3. Membership Discount\n",
        "def membership_discount(is_member, total_price):\n",
        "  if is_member:\n",
        "    discounted_price = total_price * (1 - 0.20)  # 20% for members\n",
        "  else:\n",
        "    discounted_price = total_price * (1 - 0.05)  # 5% for non-members\n",
        "  return discounted_price\n",
        "\n",
        "# 4. Seasonal Sale\n",
        "def seasonal_sale(is_holiday, total_price):\n",
        "  if is_holiday:\n",
        "    price_after_discount = total_price * (1 - 0.25)  # 25% on holidays\n",
        "  else:\n",
        "    price_after_discount = total_price * (1 - 0.10)  # 10% otherwise\n",
        "  return price_after_discount\n",
        "\n",
        "# 5. Buy-One-Get-One-Free\n",
        "def buy_one_get_one_free(num_items):\n",
        "  if num_items % 2 == 0:  # Even number of items\n",
        "    items_to_pay_for = num_items // 2  # Pay for half\n",
        "  else:\n",
        "    items_to_pay_for = num_items\n",
        "  return items_to_pay_for"
      ],
      "cell_type": "code",
      "metadata": {
        "id": "7h__hdDvvnvx"
      },
      "execution_count": null,
      "outputs": []
    },
    {
      "source": [
        "# 6. Sales Tax\n",
        "def sales_tax(price):\n",
        "  if price > 500:\n",
        "    total_price = price * (1 + 0.15)  # 15% luxury tax\n",
        "  else:\n",
        "    total_price = price * (1 + 0.08)  # 8% standard tax\n",
        "  return total_price\n",
        "\n",
        "# 7. Income Tax\n",
        "def income_tax(annual_income):\n",
        "  if annual_income > 50000:\n",
        "    tax_amount = annual_income * 0.20  # 20% tax\n",
        "  else:\n",
        "    tax_amount = annual_income * 0.10  # 10% tax\n",
        "  return tax_amount\n",
        "\n",
        "# 8. Tax Bracket\n",
        "def tax_bracket(income):\n",
        "  if income < 30000:\n",
        "    bracket = \"Low Tax\"\n",
        "  elif 30000 <= income < 100000:\n",
        "    bracket = \"Medium Tax\"\n",
        "  else:\n",
        "    bracket = \"High Tax\"\n",
        "  return bracket\n",
        "\n",
        "# 9. VAT Calculation\n",
        "def vat_calculation(is_essential, price):\n",
        "  if is_essential:\n",
        "    final_price = price * (1 + 0.05)  # 5% VAT\n",
        "  else:\n",
        "    final_price = price * (1 + 0.12)  # 12% VAT\n",
        "  return"
      ],
      "cell_type": "code",
      "metadata": {
        "id": "7Onk1SRrvpEY"
      },
      "execution_count": null,
      "outputs": []
    },
    {
      "source": [
        "# 11. Free Shipping\n",
        "def free_shipping(total_purchase):\n",
        "  if total_purchase > 50:\n",
        "    total_amount = total_purchase  # Free shipping\n",
        "  else:\n",
        "    total_amount = total_purchase + 5  # $5 shipping\n",
        "  return total_amount"
      ],
      "cell_type": "code",
      "metadata": {
        "id": "9a20SrkHvqur"
      },
      "execution_count": null,
      "outputs": []
    },
    {
      "source": [
        "# 12. Discount Code\n",
        "def discount_code(total_amount, discount_code_entered):\n",
        "  if discount_code_entered == \"DISCOUNT10\":\n",
        "    total_amount *= (1 - 0.10)  # Apply 10% discount\n",
        "  return total_amount\n",
        "\n",
        "# 13. Tiered Discounts\n",
        "def tiered_discounts(total_price):\n",
        "  if 0 <= total_price < 50:\n",
        "    discount = 0  # No discount\n",
        "  elif 50 <= total_price < 100:\n",
        "    discount = 0.10  # 10% discount\n",
        "  else:\n",
        "    discount = 0.20  # 20% discount\n",
        "  return total_price * (1 - discount)\n",
        "\n",
        "# 14. Minimum Purchase Requirement\n",
        "def minimum_purchase(total_amount):\n",
        "  if total_amount < 20:\n",
        "    return \"Minimum purchase of $20 is required.\"\n",
        "  else:\n",
        "    return total_amount\n",
        "\n",
        "# 15. Loyalty Points\n",
        "def loyalty_points(is_loyal, purchase_amount):\n",
        "  if is_loyal:\n",
        "    points = purchase_amount * 2  # Double points for loyal members\n",
        "  else:\n",
        "    points = purchase_amount  # Standard points\n",
        "  return points"
      ],
      "cell_type": "code",
      "metadata": {
        "id": "Cb-wdJ3IwAer"
      },
      "execution_count": null,
      "outputs": []
    },
    {
      "source": [
        "# 16. Travel Discount\n",
        "def travel_discount(distance, ticket_price):\n",
        "  if distance > 500:\n",
        "    ticket_price *= (1 - 0.20)  # 20% discount\n",
        "  return ticket_price\n",
        "\n",
        "# 17. Child or Senior Discount\n",
        "def age_discount(age, ticket_price):\n",
        "  if age < 12 or age > 60:\n",
        "    ticket_price *= (1 - 0.15)  # 15% discount\n",
        "  return ticket_price\n",
        "\n",
        "# 18. Ticket Type Pricing\n",
        "def ticket_type_pricing(is_weekend, ticket_price):\n",
        "  if is_weekend:\n",
        "    ticket_price *= (1 + 0.10)  # 10% surcharge\n",
        "  return ticket_price\n",
        "\n",
        "# 19. Baggage Fee\n",
        "def baggage_fee(baggage_weight):\n",
        "  if baggage_weight > 20:\n",
        "    extra_weight = baggage_weight - 20\n",
        "    fee = extra_weight * 10  # $10 per extra kg\n",
        "  else:\n",
        "    fee = 0\n",
        "  return fee\n",
        "\n",
        "# 20. Early Bird Discount\n",
        "def early_bird_discount(days_in_advance, ticket_price):\n",
        "  if days_in_advance > 30:\n",
        "    ticket_price *= (1 - 0.10)  # 10% discount\n",
        "  return ticket_price"
      ],
      "cell_type": "code",
      "metadata": {
        "id": "P2JebmCcwBMt"
      },
      "execution_count": null,
      "outputs": []
    },
    {
      "source": [
        "# 21. Pass or Fail\n",
        "def pass_or_fail(score):\n",
        "  if score >= 40:\n",
        "    return \"Pass\"\n",
        "  else:\n",
        "    return \"Fail\"\n",
        "\n",
        "# 22. Grade Assignment\n",
        "def grade_assignment(score):\n",
        "  if score >= 90:\n",
        "    grade = \"A\"\n",
        "  elif 75 <= score <= 89:\n",
        "    grade = \"B\"\n",
        "  elif 50 <= score <= 74:\n",
        "    grade = \"C\"\n",
        "  else:\n",
        "    grade = \"F\"\n",
        "  return grade\n",
        "\n",
        "# 23. Bonus Marks\n",
        "def bonus_marks(all_assignments_completed, score):\n",
        "  if all_assignments_completed:\n",
        "    score += 5\n",
        "  return score\n",
        "\n",
        "# 24. Attendance Eligibility\n",
        "def attendance_eligibility(attendance_percentage):\n",
        "  if attendance_percentage >= 75:\n",
        "    return \"Eligible\"\n",
        "  else:\n",
        "    return \"Not Eligible\"\n",
        "\n",
        "# 25. Scholarship Eligibility\n",
        "def scholarship_eligibility(grade, annual_family_income):\n",
        "  if grade == \"A\" and annual_family_income < 30000:\n",
        "    return \"Eligible\"\n",
        "  else:\n",
        "    return \"Not Eligible\""
      ],
      "cell_type": "code",
      "metadata": {
        "id": "Zht6BMwmwBus"
      },
      "execution_count": null,
      "outputs": []
    }
  ]
}