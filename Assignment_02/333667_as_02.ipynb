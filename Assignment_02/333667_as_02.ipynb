{
  "cells": [
    {
      "source": [
        "# Get input from the user\n",
        "length = float(input(\"Enter the length of the rectangle: \"))\n",
        "width = float(input(\"Enter the width of the rectangle: \"))\n",
        "\n",
        "# Calculate the area\n",
        "area = length * width\n",
        "\n",
        "# Print the result\n",
        "print(\"The area of the rectangle is:\", area)"
      ],
      "cell_type": "code",
      "metadata": {
        "id": "ZFmRmVLwuT58"
      },
      "execution_count": null,
      "outputs": []
    },
    {
      "source": [
        "import math\n",
        "\n",
        "# Get input from the user\n",
        "radius = float(input(\"Enter the radius of the circle: \"))\n",
        "\n",
        "# Calculate the circumference\n",
        "circumference = 2 * math.pi * radius\n",
        "\n",
        "# Print the result\n",
        "print(\"The circumference of the circle is:\", circumference)"
      ],
      "cell_type": "code",
      "metadata": {
        "id": "qhq3X63kuUb8"
      },
      "execution_count": null,
      "outputs": []
    },
    {
      "source": [
        "# Get input from the user\n",
        "principal = float(input(\"Enter the principal amount: \"))\n",
        "rate = float(input(\"Enter the interest rate (as a decimal): \"))\n",
        "time = float(input(\"Enter the time period (in years): \"))\n",
        "\n",
        "# Calculate the simple interest\n",
        "simple_interest = principal * rate * time\n",
        "\n",
        "# Print the result\n",
        "print(\"The simple interest is:\", simple_interest)"
      ],
      "cell_type": "code",
      "metadata": {
        "id": "2v_FZNj5uU6g"
      },
      "execution_count": null,
      "outputs": []
    },
    {
      "source": [
        "# Get input from the user\n",
        "distance = float(input(\"Enter the distance traveled (in meters): \"))\n",
        "time = float(input(\"Enter the time taken (in seconds): \"))\n",
        "\n",
        "# Calculate the speed\n",
        "speed = distance / time\n",
        "\n",
        "# Print the result\n",
        "print(\"The speed of the object is:\", speed, \"meters per second\")"
      ],
      "cell_type": "code",
      "metadata": {
        "id": "BIT1RTmtuVK6"
      },
      "execution_count": null,
      "outputs": []
    },
    {
      "source": [
        "# Get input from the user\n",
        "weight = float(input(\"Enter your weight in kilograms: \"))\n",
        "height = float(input(\"Enter your height in meters: \"))\n",
        "\n",
        "# Calculate the BMI\n",
        "bmi = weight / (height ** 2)\n",
        "\n",
        "# Print the result\n",
        "print(\"Your BMI is:\", bmi)"
      ],
      "cell_type": "code",
      "metadata": {
        "id": "4krTybi1uVbN"
      },
      "execution_count": null,
      "outputs": []
    },
    {
      "source": [
        "# Get input from the user\n",
        "mass = float(input(\"Enter the mass of the object (in kilograms): \"))\n",
        "acceleration = float(input(\"Enter the acceleration (in meters/second^2): \"))\n",
        "\n",
        "# Calculate the force\n",
        "force = mass * acceleration\n",
        "\n",
        "# Print the result\n",
        "print(\"The force on the object is:\", force, \"Newtons\")"
      ],
      "cell_type": "code",
      "metadata": {
        "id": "8sf6m0wNuVvZ"
      },
      "execution_count": null,
      "outputs": []
    },
    {
      "source": [
        "# Get input from the user\n",
        "principal = float(input(\"Enter the principal amount: \"))\n",
        "rate = float(input(\"Enter the annual interest rate (as a decimal): \"))\n",
        "n = int(input(\"Enter the number of times interest is compounded per year: \"))\n",
        "time = float(input(\"Enter the time period (in years): \"))\n",
        "\n",
        "# Calculate the compound interest\n",
        "amount = principal * (1 + (rate / n)) ** (n * time)\n",
        "\n",
        "# Print the result\n",
        "print(\"The total amount is:\", amount)"
      ],
      "cell_type": "code",
      "metadata": {
        "id": "gx-MPLONuV_p"
      },
      "execution_count": null,
      "outputs": []
    },
    {
      "source": [
        "# Get input from the user\n",
        "a = float(input(\"Enter the length of side a: \"))\n",
        "b = float(input(\"Enter the length of side b: \"))\n",
        "c = float(input(\"Enter the length of side c: \"))\n",
        "\n",
        "# Calculate the perimeter\n",
        "perimeter = a + b + c\n",
        "\n",
        "# Print the result\n",
        "print(\"The perimeter of the triangle is:\", perimeter)"
      ],
      "cell_type": "code",
      "metadata": {
        "id": "8aMr6yyZuWQM"
      },
      "execution_count": null,
      "outputs": []
    },
    {
      "source": [
        "import math\n",
        "\n",
        "# Get input from the user\n",
        "radius = float(input(\"Enter the radius of the sphere: \"))\n",
        "\n",
        "# Calculate the volume\n",
        "volume = (4/3) * math.pi * (radius ** 3)\n",
        "\n",
        "# Print the result\n",
        "print(\"The volume of the sphere is:\", volume)"
      ],
      "cell_type": "code",
      "metadata": {
        "id": "WNWVGhBHuWkk"
      },
      "execution_count": null,
      "outputs": []
    },
    {
      "source": [
        "# Get input from the user\n",
        "mass = float(input(\"Enter the mass of the object (in kilograms): \"))\n",
        "velocity = float(input(\"Enter the velocity of the object (in meters/second): \"))\n",
        "\n",
        "# Calculate the kinetic energy\n",
        "kinetic_energy = 0.5 * mass * (velocity ** 2)\n",
        "\n",
        "# Print the result\n",
        "print(\"The kinetic energy of the object is:\", kinetic_energy, \"Joules\")"
      ],
      "cell_type": "code",
      "metadata": {
        "id": "FYvNttrauW0J"
      },
      "execution_count": null,
      "outputs": []
    },
    {
      "cell_type": "code",
      "execution_count": null,
      "metadata": {
        "id": "X3ncSwJt52KA"
      },
      "outputs": [],
      "source": []
    }
  ],
  "metadata": {
    "colab": {
      "provenance": []
    },
    "kernelspec": {
      "display_name": "Python 3 (ipykernel)",
      "language": "python",
      "name": "python3"
    },
    "language_info": {
      "codemirror_mode": {
        "name": "ipython",
        "version": 3
      },
      "file_extension": ".py",
      "mimetype": "text/x-python",
      "name": "python",
      "nbconvert_exporter": "python",
      "pygments_lexer": "ipython3",
      "version": "3.12.7"
    }
  },
  "nbformat": 4,
  "nbformat_minor": 0
}